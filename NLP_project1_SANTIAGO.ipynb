{
 "cells": [
  {
   "cell_type": "markdown",
   "metadata": {},
   "source": [
    "# Natural Language Processing  : First Project\n",
    "# TripAdvisor Recommendation Challenge\n",
    "# Beating BM25\n",
    "#### **Santiago Martin & Léo Ringeissen**"
   ]
  },
  {
   "cell_type": "markdown",
   "metadata": {},
   "source": [
    "## Data loading"
   ]
  },
  {
   "cell_type": "code",
   "execution_count": 1,
   "metadata": {},
   "outputs": [],
   "source": [
    "import pandas as pd\n",
    "offerings = pd.read_csv('data/offerings.csv',sep=',',header=0)\n",
    "reviews = pd.read_csv('data/reviews.csv',sep=',',header=0)"
   ]
  },
  {
   "cell_type": "code",
   "execution_count": 2,
   "metadata": {},
   "outputs": [
    {
     "data": {
      "text/html": [
       "<div>\n",
       "<style scoped>\n",
       "    .dataframe tbody tr th:only-of-type {\n",
       "        vertical-align: middle;\n",
       "    }\n",
       "\n",
       "    .dataframe tbody tr th {\n",
       "        vertical-align: top;\n",
       "    }\n",
       "\n",
       "    .dataframe thead th {\n",
       "        text-align: right;\n",
       "    }\n",
       "</style>\n",
       "<table border=\"1\" class=\"dataframe\">\n",
       "  <thead>\n",
       "    <tr style=\"text-align: right;\">\n",
       "      <th></th>\n",
       "      <th>hotel_class</th>\n",
       "      <th>region_id</th>\n",
       "      <th>url</th>\n",
       "      <th>phone</th>\n",
       "      <th>details</th>\n",
       "      <th>address</th>\n",
       "      <th>type</th>\n",
       "      <th>id</th>\n",
       "      <th>name</th>\n",
       "    </tr>\n",
       "  </thead>\n",
       "  <tbody>\n",
       "    <tr>\n",
       "      <th>0</th>\n",
       "      <td>4.0</td>\n",
       "      <td>60763</td>\n",
       "      <td>http://www.tripadvisor.com/Hotel_Review-g60763...</td>\n",
       "      <td>NaN</td>\n",
       "      <td>NaN</td>\n",
       "      <td>{'region': 'NY', 'street-address': '147 West 4...</td>\n",
       "      <td>hotel</td>\n",
       "      <td>113317</td>\n",
       "      <td>Casablanca Hotel Times Square</td>\n",
       "    </tr>\n",
       "    <tr>\n",
       "      <th>1</th>\n",
       "      <td>5.0</td>\n",
       "      <td>32655</td>\n",
       "      <td>http://www.tripadvisor.com/Hotel_Review-g32655...</td>\n",
       "      <td>NaN</td>\n",
       "      <td>NaN</td>\n",
       "      <td>{'region': 'CA', 'street-address': '300 S Dohe...</td>\n",
       "      <td>hotel</td>\n",
       "      <td>76049</td>\n",
       "      <td>Four Seasons Hotel Los Angeles at Beverly Hills</td>\n",
       "    </tr>\n",
       "    <tr>\n",
       "      <th>2</th>\n",
       "      <td>3.5</td>\n",
       "      <td>60763</td>\n",
       "      <td>http://www.tripadvisor.com/Hotel_Review-g60763...</td>\n",
       "      <td>NaN</td>\n",
       "      <td>NaN</td>\n",
       "      <td>{'region': 'NY', 'street-address': '790 Eighth...</td>\n",
       "      <td>hotel</td>\n",
       "      <td>99352</td>\n",
       "      <td>Hilton Garden Inn Times Square</td>\n",
       "    </tr>\n",
       "    <tr>\n",
       "      <th>3</th>\n",
       "      <td>4.0</td>\n",
       "      <td>60763</td>\n",
       "      <td>http://www.tripadvisor.com/Hotel_Review-g60763...</td>\n",
       "      <td>NaN</td>\n",
       "      <td>NaN</td>\n",
       "      <td>{'region': 'NY', 'street-address': '152 West 5...</td>\n",
       "      <td>hotel</td>\n",
       "      <td>93589</td>\n",
       "      <td>The Michelangelo Hotel</td>\n",
       "    </tr>\n",
       "    <tr>\n",
       "      <th>4</th>\n",
       "      <td>4.0</td>\n",
       "      <td>60763</td>\n",
       "      <td>http://www.tripadvisor.com/Hotel_Review-g60763...</td>\n",
       "      <td>NaN</td>\n",
       "      <td>NaN</td>\n",
       "      <td>{'region': 'NY', 'street-address': '130 West 4...</td>\n",
       "      <td>hotel</td>\n",
       "      <td>217616</td>\n",
       "      <td>The Muse Hotel New York</td>\n",
       "    </tr>\n",
       "  </tbody>\n",
       "</table>\n",
       "</div>"
      ],
      "text/plain": [
       "   hotel_class  region_id                                                url  \\\n",
       "0          4.0      60763  http://www.tripadvisor.com/Hotel_Review-g60763...   \n",
       "1          5.0      32655  http://www.tripadvisor.com/Hotel_Review-g32655...   \n",
       "2          3.5      60763  http://www.tripadvisor.com/Hotel_Review-g60763...   \n",
       "3          4.0      60763  http://www.tripadvisor.com/Hotel_Review-g60763...   \n",
       "4          4.0      60763  http://www.tripadvisor.com/Hotel_Review-g60763...   \n",
       "\n",
       "   phone  details                                            address   type  \\\n",
       "0    NaN      NaN  {'region': 'NY', 'street-address': '147 West 4...  hotel   \n",
       "1    NaN      NaN  {'region': 'CA', 'street-address': '300 S Dohe...  hotel   \n",
       "2    NaN      NaN  {'region': 'NY', 'street-address': '790 Eighth...  hotel   \n",
       "3    NaN      NaN  {'region': 'NY', 'street-address': '152 West 5...  hotel   \n",
       "4    NaN      NaN  {'region': 'NY', 'street-address': '130 West 4...  hotel   \n",
       "\n",
       "       id                                             name  \n",
       "0  113317                    Casablanca Hotel Times Square  \n",
       "1   76049  Four Seasons Hotel Los Angeles at Beverly Hills  \n",
       "2   99352                   Hilton Garden Inn Times Square  \n",
       "3   93589                           The Michelangelo Hotel  \n",
       "4  217616                          The Muse Hotel New York  "
      ]
     },
     "execution_count": 2,
     "metadata": {},
     "output_type": "execute_result"
    }
   ],
   "source": [
    "offerings.head()"
   ]
  },
  {
   "cell_type": "code",
   "execution_count": 3,
   "metadata": {},
   "outputs": [
    {
     "data": {
      "text/html": [
       "<div>\n",
       "<style scoped>\n",
       "    .dataframe tbody tr th:only-of-type {\n",
       "        vertical-align: middle;\n",
       "    }\n",
       "\n",
       "    .dataframe tbody tr th {\n",
       "        vertical-align: top;\n",
       "    }\n",
       "\n",
       "    .dataframe thead th {\n",
       "        text-align: right;\n",
       "    }\n",
       "</style>\n",
       "<table border=\"1\" class=\"dataframe\">\n",
       "  <thead>\n",
       "    <tr style=\"text-align: right;\">\n",
       "      <th></th>\n",
       "      <th>ratings</th>\n",
       "      <th>title</th>\n",
       "      <th>text</th>\n",
       "      <th>author</th>\n",
       "      <th>date_stayed</th>\n",
       "      <th>offering_id</th>\n",
       "      <th>num_helpful_votes</th>\n",
       "      <th>date</th>\n",
       "      <th>id</th>\n",
       "      <th>via_mobile</th>\n",
       "    </tr>\n",
       "  </thead>\n",
       "  <tbody>\n",
       "    <tr>\n",
       "      <th>0</th>\n",
       "      <td>{'service': 5.0, 'cleanliness': 5.0, 'overall'...</td>\n",
       "      <td>“Truly is \"Jewel of the Upper Wets Side\"”</td>\n",
       "      <td>Stayed in a king suite for 11 nights and yes i...</td>\n",
       "      <td>{'username': 'Papa_Panda', 'num_cities': 22, '...</td>\n",
       "      <td>December 2012</td>\n",
       "      <td>93338</td>\n",
       "      <td>0</td>\n",
       "      <td>2012-12-17</td>\n",
       "      <td>147643103</td>\n",
       "      <td>False</td>\n",
       "    </tr>\n",
       "    <tr>\n",
       "      <th>1</th>\n",
       "      <td>{'service': 5.0, 'cleanliness': 5.0, 'overall'...</td>\n",
       "      <td>“My home away from home!”</td>\n",
       "      <td>On every visit to NYC, the Hotel Beacon is the...</td>\n",
       "      <td>{'username': 'Maureen V', 'num_reviews': 2, 'n...</td>\n",
       "      <td>December 2012</td>\n",
       "      <td>93338</td>\n",
       "      <td>0</td>\n",
       "      <td>2012-12-17</td>\n",
       "      <td>147639004</td>\n",
       "      <td>False</td>\n",
       "    </tr>\n",
       "    <tr>\n",
       "      <th>2</th>\n",
       "      <td>{'service': 4.0, 'cleanliness': 5.0, 'overall'...</td>\n",
       "      <td>“Great Stay”</td>\n",
       "      <td>This is a great property in Midtown. We two di...</td>\n",
       "      <td>{'username': 'vuguru', 'num_cities': 12, 'num_...</td>\n",
       "      <td>December 2012</td>\n",
       "      <td>1762573</td>\n",
       "      <td>0</td>\n",
       "      <td>2012-12-18</td>\n",
       "      <td>147697954</td>\n",
       "      <td>False</td>\n",
       "    </tr>\n",
       "    <tr>\n",
       "      <th>3</th>\n",
       "      <td>{'service': 5.0, 'cleanliness': 5.0, 'overall'...</td>\n",
       "      <td>“Modern Convenience”</td>\n",
       "      <td>The Andaz is a nice hotel in a central locatio...</td>\n",
       "      <td>{'username': 'Hotel-Designer', 'num_cities': 5...</td>\n",
       "      <td>August 2012</td>\n",
       "      <td>1762573</td>\n",
       "      <td>0</td>\n",
       "      <td>2012-12-17</td>\n",
       "      <td>147625723</td>\n",
       "      <td>False</td>\n",
       "    </tr>\n",
       "    <tr>\n",
       "      <th>4</th>\n",
       "      <td>{'service': 4.0, 'cleanliness': 5.0, 'overall'...</td>\n",
       "      <td>“Its the best of the Andaz Brand in the US....”</td>\n",
       "      <td>I have stayed at each of the US Andaz properti...</td>\n",
       "      <td>{'username': 'JamesE339', 'num_cities': 34, 'n...</td>\n",
       "      <td>December 2012</td>\n",
       "      <td>1762573</td>\n",
       "      <td>0</td>\n",
       "      <td>2012-12-17</td>\n",
       "      <td>147612823</td>\n",
       "      <td>False</td>\n",
       "    </tr>\n",
       "  </tbody>\n",
       "</table>\n",
       "</div>"
      ],
      "text/plain": [
       "                                             ratings  \\\n",
       "0  {'service': 5.0, 'cleanliness': 5.0, 'overall'...   \n",
       "1  {'service': 5.0, 'cleanliness': 5.0, 'overall'...   \n",
       "2  {'service': 4.0, 'cleanliness': 5.0, 'overall'...   \n",
       "3  {'service': 5.0, 'cleanliness': 5.0, 'overall'...   \n",
       "4  {'service': 4.0, 'cleanliness': 5.0, 'overall'...   \n",
       "\n",
       "                                             title  \\\n",
       "0        “Truly is \"Jewel of the Upper Wets Side\"”   \n",
       "1                        “My home away from home!”   \n",
       "2                                     “Great Stay”   \n",
       "3                             “Modern Convenience”   \n",
       "4  “Its the best of the Andaz Brand in the US....”   \n",
       "\n",
       "                                                text  \\\n",
       "0  Stayed in a king suite for 11 nights and yes i...   \n",
       "1  On every visit to NYC, the Hotel Beacon is the...   \n",
       "2  This is a great property in Midtown. We two di...   \n",
       "3  The Andaz is a nice hotel in a central locatio...   \n",
       "4  I have stayed at each of the US Andaz properti...   \n",
       "\n",
       "                                              author    date_stayed  \\\n",
       "0  {'username': 'Papa_Panda', 'num_cities': 22, '...  December 2012   \n",
       "1  {'username': 'Maureen V', 'num_reviews': 2, 'n...  December 2012   \n",
       "2  {'username': 'vuguru', 'num_cities': 12, 'num_...  December 2012   \n",
       "3  {'username': 'Hotel-Designer', 'num_cities': 5...    August 2012   \n",
       "4  {'username': 'JamesE339', 'num_cities': 34, 'n...  December 2012   \n",
       "\n",
       "   offering_id  num_helpful_votes        date         id  via_mobile  \n",
       "0        93338                  0  2012-12-17  147643103       False  \n",
       "1        93338                  0  2012-12-17  147639004       False  \n",
       "2      1762573                  0  2012-12-18  147697954       False  \n",
       "3      1762573                  0  2012-12-17  147625723       False  \n",
       "4      1762573                  0  2012-12-17  147612823       False  "
      ]
     },
     "execution_count": 3,
     "metadata": {},
     "output_type": "execute_result"
    }
   ],
   "source": [
    "reviews.head()"
   ]
  },
  {
   "cell_type": "markdown",
   "metadata": {},
   "source": [
    "## Data Preprocessing"
   ]
  },
  {
   "cell_type": "markdown",
   "metadata": {},
   "source": [
    "#### Drop useless columns"
   ]
  },
  {
   "cell_type": "code",
   "execution_count": 4,
   "metadata": {},
   "outputs": [],
   "source": [
    "cols_to_drop_offerings = ['hotel_class', 'region_id', 'url', 'phone', 'details', 'address', 'type']\n",
    "offerings = offerings.drop(cols_to_drop_offerings, axis=1)\n",
    "\n",
    "cols_to_drop_review = ['author', 'date_stayed', 'num_helpful_votes', 'date', 'id', 'via_mobile']\n",
    "reviews = reviews.drop(cols_to_drop_review, axis=1)"
   ]
  },
  {
   "cell_type": "markdown",
   "metadata": {},
   "source": [
    "#### Create rating columns"
   ]
  },
  {
   "cell_type": "code",
   "execution_count": 5,
   "metadata": {},
   "outputs": [],
   "source": [
    "import pandas as pd\n",
    "import ast\n",
    "required_keys = ['service', 'cleanliness', 'overall', 'value', 'location', 'sleep_quality', 'rooms']\n",
    "\n",
    "# Function to preprocess the ratings column\n",
    "def preprocess_ratings(dataframe):\n",
    "    # Convert the 'ratings' column from string to dictionary using ast.literal_eval\n",
    "    dataframe['ratings_dict'] = dataframe['ratings'].apply(lambda x: ast.literal_eval(x))\n",
    "    \n",
    "    # Define the required keys\n",
    "    \n",
    "    # Extract only the required keys from the dictionary\n",
    "    dataframe['filtered_ratings_dict'] = dataframe['ratings_dict'].apply(\n",
    "        lambda d: {key: d[key] for key in required_keys if key in d}\n",
    "    )\n",
    "    \n",
    "    # Normalize the filtered dictionary column into separate columns\n",
    "    ratings_expanded = pd.json_normalize(dataframe['filtered_ratings_dict'])\n",
    "    \n",
    "    # Drop rows where any of the required keys are missing\n",
    "    ratings_filtered = ratings_expanded.dropna(subset=required_keys)\n",
    "    \n",
    "    # Add the expanded columns back to the original dataframe\n",
    "    dataframe = dataframe.join(ratings_filtered)\n",
    "    \n",
    "    # Drop the intermediate columns\n",
    "    dataframe = dataframe.drop(columns=['ratings', 'ratings_dict', 'filtered_ratings_dict'])\n",
    "    \n",
    "    return dataframe\n",
    "\n",
    "# Apply the preprocessing function\n",
    "reviews = preprocess_ratings(reviews)\n"
   ]
  },
  {
   "cell_type": "code",
   "execution_count": 6,
   "metadata": {},
   "outputs": [
    {
     "name": "stdout",
     "output_type": "stream",
     "text": [
      "title                 0\n",
      "text                  0\n",
      "offering_id           0\n",
      "service          442170\n",
      "cleanliness      442170\n",
      "overall          442170\n",
      "value            442170\n",
      "location         442170\n",
      "sleep_quality    442170\n",
      "rooms            442170\n",
      "dtype: int64\n",
      "title            0\n",
      "text             0\n",
      "offering_id      0\n",
      "service          0\n",
      "cleanliness      0\n",
      "overall          0\n",
      "value            0\n",
      "location         0\n",
      "sleep_quality    0\n",
      "rooms            0\n",
      "dtype: int64\n"
     ]
    }
   ],
   "source": [
    "print(reviews.isnull().sum())\n",
    "reviews.dropna(inplace=True)\n",
    "print(reviews.isnull().sum())"
   ]
  },
  {
   "cell_type": "markdown",
   "metadata": {},
   "source": [
    "#### Joining offerings and reviews"
   ]
  },
  {
   "cell_type": "code",
   "execution_count": 7,
   "metadata": {},
   "outputs": [
    {
     "data": {
      "text/html": [
       "<div>\n",
       "<style scoped>\n",
       "    .dataframe tbody tr th:only-of-type {\n",
       "        vertical-align: middle;\n",
       "    }\n",
       "\n",
       "    .dataframe tbody tr th {\n",
       "        vertical-align: top;\n",
       "    }\n",
       "\n",
       "    .dataframe thead th {\n",
       "        text-align: right;\n",
       "    }\n",
       "</style>\n",
       "<table border=\"1\" class=\"dataframe\">\n",
       "  <thead>\n",
       "    <tr style=\"text-align: right;\">\n",
       "      <th></th>\n",
       "      <th>id</th>\n",
       "      <th>name</th>\n",
       "      <th>service</th>\n",
       "      <th>cleanliness</th>\n",
       "      <th>overall</th>\n",
       "      <th>value</th>\n",
       "      <th>location</th>\n",
       "      <th>sleep_quality</th>\n",
       "      <th>rooms</th>\n",
       "      <th>text</th>\n",
       "      <th>num_reviews</th>\n",
       "    </tr>\n",
       "  </thead>\n",
       "  <tbody>\n",
       "    <tr>\n",
       "      <th>0</th>\n",
       "      <td>72572</td>\n",
       "      <td>BEST WESTERN PLUS Pioneer Square Hotel</td>\n",
       "      <td>4.601010</td>\n",
       "      <td>4.636364</td>\n",
       "      <td>4.388889</td>\n",
       "      <td>4.323232</td>\n",
       "      <td>4.570707</td>\n",
       "      <td>4.333333</td>\n",
       "      <td>4.282828</td>\n",
       "      <td>I had to make fast visit to seattle and I foun...</td>\n",
       "      <td>198</td>\n",
       "    </tr>\n",
       "    <tr>\n",
       "      <th>1</th>\n",
       "      <td>72579</td>\n",
       "      <td>BEST WESTERN Loyal Inn</td>\n",
       "      <td>4.232000</td>\n",
       "      <td>4.240000</td>\n",
       "      <td>3.888000</td>\n",
       "      <td>4.152000</td>\n",
       "      <td>4.192000</td>\n",
       "      <td>3.768000</td>\n",
       "      <td>3.856000</td>\n",
       "      <td>Great service, rooms were clean, could use som...</td>\n",
       "      <td>125</td>\n",
       "    </tr>\n",
       "    <tr>\n",
       "      <th>2</th>\n",
       "      <td>72586</td>\n",
       "      <td>BEST WESTERN PLUS Executive Inn</td>\n",
       "      <td>4.250000</td>\n",
       "      <td>4.287879</td>\n",
       "      <td>4.045455</td>\n",
       "      <td>4.053030</td>\n",
       "      <td>4.537879</td>\n",
       "      <td>4.113636</td>\n",
       "      <td>3.992424</td>\n",
       "      <td>Beautiful views of the space needle - especial...</td>\n",
       "      <td>132</td>\n",
       "    </tr>\n",
       "    <tr>\n",
       "      <th>3</th>\n",
       "      <td>72598</td>\n",
       "      <td>Comfort Inn &amp; Suites Seattle</td>\n",
       "      <td>3.243243</td>\n",
       "      <td>3.243243</td>\n",
       "      <td>2.918919</td>\n",
       "      <td>3.054054</td>\n",
       "      <td>3.027027</td>\n",
       "      <td>3.270270</td>\n",
       "      <td>3.189189</td>\n",
       "      <td>This hotel is in need of some serious updates....</td>\n",
       "      <td>37</td>\n",
       "    </tr>\n",
       "    <tr>\n",
       "      <th>4</th>\n",
       "      <td>73236</td>\n",
       "      <td>Days Inn San Antonio/Near Lackland AFB</td>\n",
       "      <td>4.277778</td>\n",
       "      <td>3.111111</td>\n",
       "      <td>3.388889</td>\n",
       "      <td>3.777778</td>\n",
       "      <td>4.111111</td>\n",
       "      <td>3.722222</td>\n",
       "      <td>3.222222</td>\n",
       "      <td>My experience at this days inn was perfect. th...</td>\n",
       "      <td>18</td>\n",
       "    </tr>\n",
       "  </tbody>\n",
       "</table>\n",
       "</div>"
      ],
      "text/plain": [
       "      id                                    name   service  cleanliness  \\\n",
       "0  72572  BEST WESTERN PLUS Pioneer Square Hotel  4.601010     4.636364   \n",
       "1  72579                  BEST WESTERN Loyal Inn  4.232000     4.240000   \n",
       "2  72586         BEST WESTERN PLUS Executive Inn  4.250000     4.287879   \n",
       "3  72598            Comfort Inn & Suites Seattle  3.243243     3.243243   \n",
       "4  73236  Days Inn San Antonio/Near Lackland AFB  4.277778     3.111111   \n",
       "\n",
       "    overall     value  location  sleep_quality     rooms  \\\n",
       "0  4.388889  4.323232  4.570707       4.333333  4.282828   \n",
       "1  3.888000  4.152000  4.192000       3.768000  3.856000   \n",
       "2  4.045455  4.053030  4.537879       4.113636  3.992424   \n",
       "3  2.918919  3.054054  3.027027       3.270270  3.189189   \n",
       "4  3.388889  3.777778  4.111111       3.722222  3.222222   \n",
       "\n",
       "                                                text  num_reviews  \n",
       "0  I had to make fast visit to seattle and I foun...          198  \n",
       "1  Great service, rooms were clean, could use som...          125  \n",
       "2  Beautiful views of the space needle - especial...          132  \n",
       "3  This hotel is in need of some serious updates....           37  \n",
       "4  My experience at this days inn was perfect. th...           18  "
      ]
     },
     "execution_count": 7,
     "metadata": {},
     "output_type": "execute_result"
    }
   ],
   "source": [
    "# Merge the reviews and offerings dataframes on the offering_id and id columns\n",
    "merged_df = pd.merge(reviews, offerings, left_on='offering_id', right_on='id')\n",
    "\n",
    "# Group by the hotel id and name, and calculate the mean for the rating columns and count for the number of reviews\n",
    "grouped_df = merged_df.groupby(['id', 'name']).agg(\n",
    "    {cat: 'mean' for cat in required_keys} | {'text': ' '.join} | {'offering_id': 'count'}\n",
    ").rename(columns={'offering_id': 'num_reviews'}).reset_index()\n",
    "\n",
    "# Display the resulting dataframe\n",
    "grouped_df.head()"
   ]
  },
  {
   "cell_type": "code",
   "execution_count": 8,
   "metadata": {},
   "outputs": [
    {
     "name": "stdout",
     "output_type": "stream",
     "text": [
      "(3754, 11)\n"
     ]
    },
    {
     "data": {
      "text/html": [
       "<div>\n",
       "<style scoped>\n",
       "    .dataframe tbody tr th:only-of-type {\n",
       "        vertical-align: middle;\n",
       "    }\n",
       "\n",
       "    .dataframe tbody tr th {\n",
       "        vertical-align: top;\n",
       "    }\n",
       "\n",
       "    .dataframe thead th {\n",
       "        text-align: right;\n",
       "    }\n",
       "</style>\n",
       "<table border=\"1\" class=\"dataframe\">\n",
       "  <thead>\n",
       "    <tr style=\"text-align: right;\">\n",
       "      <th></th>\n",
       "      <th>id</th>\n",
       "      <th>name</th>\n",
       "      <th>service</th>\n",
       "      <th>cleanliness</th>\n",
       "      <th>overall</th>\n",
       "      <th>value</th>\n",
       "      <th>location</th>\n",
       "      <th>sleep_quality</th>\n",
       "      <th>rooms</th>\n",
       "      <th>text</th>\n",
       "      <th>num_reviews</th>\n",
       "    </tr>\n",
       "  </thead>\n",
       "  <tbody>\n",
       "    <tr>\n",
       "      <th>0</th>\n",
       "      <td>72572</td>\n",
       "      <td>BEST WESTERN PLUS Pioneer Square Hotel</td>\n",
       "      <td>4.601010</td>\n",
       "      <td>4.636364</td>\n",
       "      <td>4.388889</td>\n",
       "      <td>4.323232</td>\n",
       "      <td>4.570707</td>\n",
       "      <td>4.333333</td>\n",
       "      <td>4.282828</td>\n",
       "      <td>I had to make fast visit to seattle and I foun...</td>\n",
       "      <td>198</td>\n",
       "    </tr>\n",
       "    <tr>\n",
       "      <th>1</th>\n",
       "      <td>72579</td>\n",
       "      <td>BEST WESTERN Loyal Inn</td>\n",
       "      <td>4.232000</td>\n",
       "      <td>4.240000</td>\n",
       "      <td>3.888000</td>\n",
       "      <td>4.152000</td>\n",
       "      <td>4.192000</td>\n",
       "      <td>3.768000</td>\n",
       "      <td>3.856000</td>\n",
       "      <td>Great service, rooms were clean, could use som...</td>\n",
       "      <td>125</td>\n",
       "    </tr>\n",
       "    <tr>\n",
       "      <th>2</th>\n",
       "      <td>72586</td>\n",
       "      <td>BEST WESTERN PLUS Executive Inn</td>\n",
       "      <td>4.250000</td>\n",
       "      <td>4.287879</td>\n",
       "      <td>4.045455</td>\n",
       "      <td>4.053030</td>\n",
       "      <td>4.537879</td>\n",
       "      <td>4.113636</td>\n",
       "      <td>3.992424</td>\n",
       "      <td>Beautiful views of the space needle - especial...</td>\n",
       "      <td>132</td>\n",
       "    </tr>\n",
       "    <tr>\n",
       "      <th>3</th>\n",
       "      <td>72598</td>\n",
       "      <td>Comfort Inn &amp; Suites Seattle</td>\n",
       "      <td>3.243243</td>\n",
       "      <td>3.243243</td>\n",
       "      <td>2.918919</td>\n",
       "      <td>3.054054</td>\n",
       "      <td>3.027027</td>\n",
       "      <td>3.270270</td>\n",
       "      <td>3.189189</td>\n",
       "      <td>This hotel is in need of some serious updates....</td>\n",
       "      <td>37</td>\n",
       "    </tr>\n",
       "    <tr>\n",
       "      <th>4</th>\n",
       "      <td>73236</td>\n",
       "      <td>Days Inn San Antonio/Near Lackland AFB</td>\n",
       "      <td>4.277778</td>\n",
       "      <td>3.111111</td>\n",
       "      <td>3.388889</td>\n",
       "      <td>3.777778</td>\n",
       "      <td>4.111111</td>\n",
       "      <td>3.722222</td>\n",
       "      <td>3.222222</td>\n",
       "      <td>My experience at this days inn was perfect. th...</td>\n",
       "      <td>18</td>\n",
       "    </tr>\n",
       "  </tbody>\n",
       "</table>\n",
       "</div>"
      ],
      "text/plain": [
       "      id                                    name   service  cleanliness  \\\n",
       "0  72572  BEST WESTERN PLUS Pioneer Square Hotel  4.601010     4.636364   \n",
       "1  72579                  BEST WESTERN Loyal Inn  4.232000     4.240000   \n",
       "2  72586         BEST WESTERN PLUS Executive Inn  4.250000     4.287879   \n",
       "3  72598            Comfort Inn & Suites Seattle  3.243243     3.243243   \n",
       "4  73236  Days Inn San Antonio/Near Lackland AFB  4.277778     3.111111   \n",
       "\n",
       "    overall     value  location  sleep_quality     rooms  \\\n",
       "0  4.388889  4.323232  4.570707       4.333333  4.282828   \n",
       "1  3.888000  4.152000  4.192000       3.768000  3.856000   \n",
       "2  4.045455  4.053030  4.537879       4.113636  3.992424   \n",
       "3  2.918919  3.054054  3.027027       3.270270  3.189189   \n",
       "4  3.388889  3.777778  4.111111       3.722222  3.222222   \n",
       "\n",
       "                                                text  num_reviews  \n",
       "0  I had to make fast visit to seattle and I foun...          198  \n",
       "1  Great service, rooms were clean, could use som...          125  \n",
       "2  Beautiful views of the space needle - especial...          132  \n",
       "3  This hotel is in need of some serious updates....           37  \n",
       "4  My experience at this days inn was perfect. th...           18  "
      ]
     },
     "metadata": {},
     "output_type": "display_data"
    }
   ],
   "source": [
    "print(grouped_df.shape)\n",
    "display(grouped_df.head())"
   ]
  },
  {
   "cell_type": "markdown",
   "metadata": {},
   "source": [
    "## Testing and evaluating BM25 with 100 random queries"
   ]
  },
  {
   "cell_type": "markdown",
   "metadata": {},
   "source": [
    "### Initialization"
   ]
  },
  {
   "cell_type": "code",
   "execution_count": 9,
   "metadata": {},
   "outputs": [],
   "source": [
    "from rank_bm25 import BM25Okapi\n",
    "\n",
    "corpus = grouped_df['text'].tolist()\n",
    "tokenized_corpus = [doc.split(\" \") for doc in corpus]\n",
    "bm25 = BM25Okapi(tokenized_corpus)"
   ]
  },
  {
   "cell_type": "markdown",
   "metadata": {},
   "source": [
    "### Querying on N documents"
   ]
  },
  {
   "cell_type": "code",
   "execution_count": 10,
   "metadata": {},
   "outputs": [
    {
     "name": "stdout",
     "output_type": "stream",
     "text": [
      "[2619, 456, 102, 3037, 1126, 1003, 914, 571, 3016, 419, 2771, 3033, 3654, 2233, 356, 2418, 1728, 130, 122, 383, 895, 952, 2069, 2465, 108, 2298, 814, 2932, 2661, 2872, 2232, 1718, 902, 1839, 2413, 1139, 3315, 3560, 26, 3108, 3300, 653, 2859, 1731, 1393, 1138, 636, 881, 3127, 1378]\n"
     ]
    }
   ],
   "source": [
    "import random\n",
    "\n",
    "n_queries = 50 # For testing, we will use 10 queries\n",
    "random.seed(42)\n",
    "query_ids = random.sample(range(len(corpus)), n_queries)\n",
    "print(query_ids)"
   ]
  },
  {
   "cell_type": "code",
   "execution_count": 64,
   "metadata": {},
   "outputs": [
    {
     "name": "stdout",
     "output_type": "stream",
     "text": [
      "0.5775039596383706\n",
      "[2727, 867, 546, 718, 598, 232, 2657, 1833, 244, 163, 832, 814, 3020, 2239, 371, 2886, 239, 149, 551, 316, 1619, 156, 1310, 3296, 1761, 601, 1156, 1622, 3192, 3081, 232, 3648, 531, 2023, 316, 1144, 2023, 137, 1010, 2023, 3188, 718, 436, 341, 1622, 2639, 607, 535, 718, 2850]\n"
     ]
    }
   ],
   "source": [
    "import numpy as np\n",
    "\n",
    "mses = []\n",
    "best_doc_ids = []\n",
    "\n",
    "for query_id in query_ids:\n",
    "    query = corpus[query_id]\n",
    "    tokenized_query = query.split(\" \")\n",
    "    doc_scores = bm25.get_scores(tokenized_query)\n",
    "    doc_id = doc_scores.argsort()[-2]\n",
    "    best_doc_ids.append(doc_id)\n",
    "    mse = np.mean((grouped_df.iloc[query_id][required_keys] - grouped_df.iloc[doc_id][required_keys])**2)\n",
    "    mses.append(mse)\n",
    "    \n",
    "# Calculate the mean mse\n",
    "mean_mse = np.mean(mses)\n",
    "print(mean_mse)\n",
    "print(best_doc_ids)"
   ]
  },
  {
   "cell_type": "markdown",
   "metadata": {},
   "source": [
    "**Results**\n",
    "- Score: 0.5775039596383706\n",
    "- Best IDs: [2727, 867, 546, 718, 598, 232, 2657, 1833, 244, 163, 832, 814, 3020, 2239, 371, 2886, 239, 149, 551, 316, 1619, 156, 1310, 3296, 1761, 601, 1156, 1622, 3192, 3081, 232, 3648, 531, 2023, 316, 1144, 2023, 137, 1010, 2023, 3188, 718, 436, 341, 1622, 2639, 607, 535, 718, 2850]"
   ]
  },
  {
   "cell_type": "markdown",
   "metadata": {},
   "source": [
    "### With NLP preprocessing"
   ]
  },
  {
   "cell_type": "code",
   "execution_count": 19,
   "metadata": {},
   "outputs": [
    {
     "name": "stderr",
     "output_type": "stream",
     "text": [
      "[nltk_data] Downloading package punkt to\n",
      "[nltk_data]     C:\\Users\\ringi\\AppData\\Roaming\\nltk_data...\n",
      "[nltk_data]   Package punkt is already up-to-date!\n",
      "[nltk_data] Downloading package stopwords to\n",
      "[nltk_data]     C:\\Users\\ringi\\AppData\\Roaming\\nltk_data...\n",
      "[nltk_data]   Package stopwords is already up-to-date!\n"
     ]
    }
   ],
   "source": [
    "import nltk\n",
    "import re\n",
    "from nltk.tokenize import RegexpTokenizer\n",
    "from nltk.stem import PorterStemmer\n",
    "from nltk.corpus import stopwords\n",
    "nltk.download('punkt')\n",
    "nltk.download('stopwords')\n",
    "stopwords = set(stopwords.words('english'))\n",
    "\n",
    "def clean_text(text):\n",
    "    text = text.lower()\n",
    "    regex_tokenizer = RegexpTokenizer('\\w\\w+')\n",
    "    text = regex_tokenizer.tokenize(text)\n",
    "    text = [word for word in text if word not in stopwords]\n",
    "    stemmer = PorterStemmer()\n",
    "    text = [stemmer.stem(word) for word in text]\n",
    "    text = ' '.join(text)\n",
    "    return text"
   ]
  },
  {
   "cell_type": "code",
   "execution_count": 20,
   "metadata": {},
   "outputs": [],
   "source": [
    "processed_corpus = [clean_text(doc) for doc in corpus]\n",
    "#processed_tokenized_corpus = [doc.split(\" \") for doc in processed_corpus]\n",
    "#processed_bm25 = BM25Okapi(processed_tokenized_corpus)"
   ]
  },
  {
   "cell_type": "code",
   "execution_count": 67,
   "metadata": {},
   "outputs": [
    {
     "name": "stdout",
     "output_type": "stream",
     "text": [
      "0.4264256713920574\n",
      "[2727, 960, 546, 3603, 615, 239, 1874, 1833, 244, 2023, 832, 1276, 3020, 714, 371, 2886, 239, 149, 551, 316, 2618, 383, 1310, 3296, 1761, 1622, 1156, 1761, 1683, 3081, 1010, 3648, 1761, 573, 115, 1144, 1622, 115, 1010, 539, 3188, 718, 3258, 341, 1622, 2639, 3603, 1606, 3020, 3656]\n"
     ]
    }
   ],
   "source": [
    "import numpy as np\n",
    "\n",
    "processed_mses = []\n",
    "processed_best_doc_ids = []\n",
    "\n",
    "for query_id in query_ids:\n",
    "    query = processed_corpus[query_id]\n",
    "    tokenized_query = query.split(\" \")\n",
    "    doc_scores = processed_bm25.get_scores(tokenized_query)\n",
    "    doc_id = doc_scores.argsort()[-2]\n",
    "    processed_best_doc_ids.append(doc_id)\n",
    "    mse = np.mean((grouped_df.iloc[query_id][required_keys] - grouped_df.iloc[doc_id][required_keys])**2)\n",
    "    processed_mses.append(mse)\n",
    "    \n",
    "# Calculate the mean mse\n",
    "processed_mean_mse = np.mean(processed_mses)\n",
    "print(processed_mean_mse)\n",
    "print(processed_best_doc_ids)"
   ]
  },
  {
   "cell_type": "markdown",
   "metadata": {},
   "source": [
    "**Results**\n",
    "- Score: 0.4264256713920574\n",
    "- Best IDs: [2727, 960, 546, 3603, 615, 239, 1874, 1833, 244, 2023, 832, 1276, 3020, 714, 371, 2886, 239, 149, 551, 316, 2618, 383, 1310, 3296, 1761, 1622, 1156, 1761, 1683, 3081, 1010, 3648, 1761, 573, 115, 1144, 1622, 115, 1010, 539, 3188, 718, 3258, 341, 1622, 2639, 3603, 1606, 3020, 3656]"
   ]
  },
  {
   "cell_type": "markdown",
   "metadata": {},
   "source": [
    "# T5 TEST"
   ]
  },
  {
   "cell_type": "code",
   "execution_count": 30,
   "metadata": {},
   "outputs": [
    {
     "data": {
      "application/vnd.jupyter.widget-view+json": {
       "model_id": "c4650e778b674bbd970699f3097491a5",
       "version_major": 2,
       "version_minor": 0
      },
      "text/plain": [
       "spiece.model:   0%|          | 0.00/792k [00:00<?, ?B/s]"
      ]
     },
     "metadata": {},
     "output_type": "display_data"
    },
    {
     "name": "stderr",
     "output_type": "stream",
     "text": [
      "c:\\Python311\\Lib\\site-packages\\huggingface_hub\\file_download.py:139: UserWarning: `huggingface_hub` cache-system uses symlinks by default to efficiently store duplicated files but your machine does not support them in C:\\Users\\ringi\\.cache\\huggingface\\hub\\models--t5-base. Caching files will still work but in a degraded version that might require more space on your disk. This warning can be disabled by setting the `HF_HUB_DISABLE_SYMLINKS_WARNING` environment variable. For more details, see https://huggingface.co/docs/huggingface_hub/how-to-cache#limitations.\n",
      "To support symlinks on Windows, you either need to activate Developer Mode or to run Python as an administrator. In order to activate developer mode, see this article: https://docs.microsoft.com/en-us/windows/apps/get-started/enable-your-device-for-development\n",
      "  warnings.warn(message)\n"
     ]
    },
    {
     "data": {
      "application/vnd.jupyter.widget-view+json": {
       "model_id": "d9f57b3705fe46fca06f0d133aa4e7d7",
       "version_major": 2,
       "version_minor": 0
      },
      "text/plain": [
       "tokenizer.json:   0%|          | 0.00/1.39M [00:00<?, ?B/s]"
      ]
     },
     "metadata": {},
     "output_type": "display_data"
    },
    {
     "data": {
      "application/vnd.jupyter.widget-view+json": {
       "model_id": "c4b68ff70af84490a0acdce8d94ae177",
       "version_major": 2,
       "version_minor": 0
      },
      "text/plain": [
       "config.json:   0%|          | 0.00/1.21k [00:00<?, ?B/s]"
      ]
     },
     "metadata": {},
     "output_type": "display_data"
    },
    {
     "data": {
      "application/vnd.jupyter.widget-view+json": {
       "model_id": "0583c2a8b30644ad9662ea2e5795a6db",
       "version_major": 2,
       "version_minor": 0
      },
      "text/plain": [
       "model.safetensors:   0%|          | 0.00/892M [00:00<?, ?B/s]"
      ]
     },
     "metadata": {},
     "output_type": "display_data"
    },
    {
     "name": "stdout",
     "output_type": "stream",
     "text": [
      "Encoding documents into embeddings...\n"
     ]
    }
   ],
   "source": [
    "from transformers import T5Tokenizer, T5Model\n",
    "from sklearn.metrics.pairwise import cosine_similarity\n",
    "import numpy as np\n",
    "import random\n",
    "import sentencepiece\n",
    "import torch\n",
    "\n",
    "# Load T5 model and tokenizer\n",
    "model_name = \"t5-base\"  # Change to \"t5-base\" or \"t5-large\" for better results\n",
    "tokenizer = T5Tokenizer.from_pretrained(model_name)\n",
    "model = T5Model.from_pretrained(model_name)\n",
    "\n",
    "# Ensure reproducibility\n",
    "random.seed(42)\n",
    "np.random.seed(42)\n",
    "\n",
    "# Function to encode text into embeddings using T5\n",
    "def encode_text(text, max_length=512):\n",
    "    # Tokenize and prepare inputs\n",
    "    inputs = tokenizer(text, return_tensors=\"pt\", max_length=max_length, truncation=True, padding=\"max_length\")\n",
    "    # Pass inputs through T5 encoder to get embeddings\n",
    "    with torch.no_grad():\n",
    "        outputs = model.encoder(**inputs)\n",
    "    # Mean pooling of the token embeddings\n",
    "    return outputs.last_hidden_state.mean(dim=1).squeeze().numpy()\n",
    "\n",
    "# Preprocess corpus to get embeddings\n",
    "print(\"Encoding documents into embeddings...\")\n",
    "document_embeddings = np.array([encode_text(doc) for doc in corpus])\n",
    "\n",
    "\n"
   ]
  },
  {
   "cell_type": "code",
   "execution_count": 32,
   "metadata": {},
   "outputs": [
    {
     "name": "stdout",
     "output_type": "stream",
     "text": [
      "[2619, 456, 102, 3037, 1126, 1003, 914, 571, 3016, 419, 2771, 3033, 3654, 2233, 356, 2418, 1728, 130, 122, 383, 895, 952, 2069, 2465, 108, 2298, 814, 2932, 2661, 2872, 2232, 1718, 902, 1839, 2413, 1139, 3315, 3560, 26, 3108, 3300, 653, 2859, 1731, 1393, 1138, 636, 881, 3127, 1378, 418, 379, 1556, 396, 1470, 3471, 1408, 2472, 1083, 3305, 177, 2988, 1881, 2196, 511, 1550, 322, 2261, 1200, 3397, 2574, 2533, 3626, 3529, 1481, 2364, 787, 2885, 284, 187, 2708, 933, 3166, 1185, 326, 3503, 953, 3549, 413, 1857, 2603, 3416, 1494, 666, 1516, 1455, 858, 2745, 1093, 2874]\n",
      "Processing queries...\n",
      "Mean MSE: 0.5515936991289846\n",
      "Best doc IDs: [2639, 1433, 1945, 504, 2100, 1801, 2631, 3638, 1732, 3606, 3084, 1491, 639, 1887, 200, 3080, 1028, 2957, 1711, 354, 3584, 2978, 3313, 2750, 1182, 644, 114, 2772, 2541, 470, 1417, 2348, 305, 1053, 430, 2307, 2655, 2530, 628, 2928, 0, 2141, 83, 249, 181, 436, 594, 557, 754, 126, 1303, 530, 1404, 2962, 1523, 1971, 372, 3191, 2969, 3503, 1438, 3521, 645, 594, 165, 1317, 3208, 622, 3502, 230, 812, 3100, 3135, 1352, 3282, 3387, 3362, 3595, 903, 3488, 2064, 639, 1935, 1319, 1475, 2628, 79, 1392, 919, 2745, 181, 319, 1208, 2778, 359, 1573, 2581, 2393, 827, 1317]\n"
     ]
    }
   ],
   "source": [
    "# Generate random queries\n",
    "n_queries = 100 # For testing, we will use 10 queries\n",
    "random.seed(42)\n",
    "query_ids = random.sample(range(len(corpus)), n_queries)\n",
    "print(query_ids)\n",
    "\n",
    "mses = []\n",
    "best_doc_ids = []\n",
    "\n",
    "# Iterate through random queries\n",
    "print(\"Processing queries...\")\n",
    "for query_id in query_ids:\n",
    "    query = corpus[query_id]\n",
    "    query_embedding = encode_text(query)\n",
    "    \n",
    "    # Compute cosine similarities\n",
    "    doc_scores = cosine_similarity([query_embedding], document_embeddings).flatten()\n",
    "    \n",
    "    # Get the second-highest score\n",
    "    doc_id = np.argsort(doc_scores)[-2]  # Second-highest score\n",
    "    best_doc_ids.append(doc_id)\n",
    "    \n",
    "    # Calculate MSE for evaluation\n",
    "    mse = np.mean((grouped_df.iloc[query_id][required_keys] - grouped_df.iloc[doc_id][required_keys])**2)\n",
    "    mses.append(mse)\n",
    "\n",
    "# Calculate the mean MSE\n",
    "mean_mse = np.mean(mses)\n",
    "print(f\"Mean MSE: {mean_mse}\")\n",
    "print(\"Best doc IDs:\", best_doc_ids)"
   ]
  },
  {
   "cell_type": "markdown",
   "metadata": {},
   "source": [
    "- T5 small no preprocess Mean MSE: 0.47295596331040385\n",
    "- T5 small with preprocess Mean MSE: 0.48910285125897723\n",
    "- T5 base with no preprocess Mean MSE: 0.51\n"
   ]
  },
  {
   "cell_type": "markdown",
   "metadata": {},
   "source": [
    "100 queries :\n",
    "- BM25 baseline\n",
    "- BM25 preprocessed\n",
    "- TF-IDF baseline \n",
    "- TF-IDF preprocessed \n",
    "- BERT baseline\n",
    "- BERT preprocessed\n",
    "- T5 small baseline\n",
    "- T5 small preprocessed\n",
    "- T5 base  : 0.5515936991289846\n",
    "- T5 base preprocessed : no\n",
    "\n"
   ]
  },
  {
   "cell_type": "code",
   "execution_count": 29,
   "metadata": {},
   "outputs": [
    {
     "name": "stdout",
     "output_type": "stream",
     "text": [
      "0.5361740321084517\n",
      "[1602, 704, 2365, 767, 598, 2735, 1874, 1833, 2610, 179, 2838, 3529, 3351, 2827, 371, 178, 110, 1640, 3211, 1774, 1277, 253, 95, 3296, 405, 2580, 3484, 3077, 3247, 3081, 2727, 3648, 1646, 1831, 3356, 1144, 3231, 2662, 2889, 179, 3188, 756, 591, 364, 962, 1140, 640, 1277, 179, 2850]\n"
     ]
    }
   ],
   "source": [
    "from sklearn.feature_extraction.text import TfidfVectorizer\n",
    "from sklearn.metrics.pairwise import cosine_similarity\n",
    "\n",
    "# Build TF-IDF matrix\n",
    "tfidf = TfidfVectorizer()\n",
    "tfidf_matrix = tfidf.fit_transform(corpus)\n",
    "\n",
    "mses = []\n",
    "best_doc_ids = []\n",
    "\n",
    "# Iterate through random queries\n",
    "for query_id in query_ids:\n",
    "    query = corpus[query_id]\n",
    "    query_vector = tfidf.transform([query])\n",
    "    doc_scores = cosine_similarity(query_vector, tfidf_matrix).flatten()\n",
    "    doc_id = np.argsort(doc_scores)[-2]  # Second-highest score\n",
    "    best_doc_ids.append(doc_id)\n",
    "    mse = np.mean((grouped_df.iloc[query_id][required_keys] - grouped_df.iloc[doc_id][required_keys])**2)\n",
    "    mses.append(mse)\n",
    "\n",
    "mean_mse = np.mean(mses)\n",
    "print(mean_mse)\n",
    "print(best_doc_ids)\n"
   ]
  }
 ],
 "metadata": {
  "kernelspec": {
   "display_name": "Python 3",
   "language": "python",
   "name": "python3"
  },
  "language_info": {
   "codemirror_mode": {
    "name": "ipython",
    "version": 3
   },
   "file_extension": ".py",
   "mimetype": "text/x-python",
   "name": "python",
   "nbconvert_exporter": "python",
   "pygments_lexer": "ipython3",
   "version": "3.11.5"
  }
 },
 "nbformat": 4,
 "nbformat_minor": 2
}
