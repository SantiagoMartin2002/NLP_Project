{
 "cells": [
  {
   "cell_type": "markdown",
   "metadata": {},
   "source": [
    "# **NLP Project 2 : Supervised Learning**\n",
    "## Léo RINGEISSEN and Santiago MARTIN"
   ]
  },
  {
   "cell_type": "markdown",
   "metadata": {},
   "source": [
    "# Streamlit app"
   ]
  },
  {
   "cell_type": "markdown",
   "metadata": {},
   "source": [
    "### Run this cell to launch the streamlit app"
   ]
  },
  {
   "cell_type": "code",
   "execution_count": 1,
   "metadata": {},
   "outputs": [
    {
     "ename": "",
     "evalue": "",
     "output_type": "error",
     "traceback": [
      "\u001b[1;31mThe Kernel crashed while executing code in the current cell or a previous cell. \n",
      "\u001b[1;31mPlease review the code in the cell(s) to identify a possible cause of the failure. \n",
      "\u001b[1;31mClick <a href='https://aka.ms/vscodeJupyterKernelCrash'>here</a> for more info. \n",
      "\u001b[1;31mView Jupyter <a href='command:jupyter.viewOutput'>log</a> for further details."
     ]
    }
   ],
   "source": [
    "streamlit_code = \"\"\"\n",
    "import streamlit as st\n",
    "import pickle\n",
    "import numpy as np\n",
    "import joblib\n",
    "\n",
    "# Load the pre-trained models and encoders\n",
    "with open('rating_models/ord_model_tfidf_downsampled_df.pkl', 'rb') as model_file:\n",
    "    ord = pickle.load(model_file)\n",
    "\n",
    "with open('tfidf_downsampled_vectorizer.pkl', 'rb') as vectorizer_file:\n",
    "    downsampled_tfidf = pickle.load(vectorizer_file)\n",
    "\n",
    "rf = joblib.load('product_models/rf_model_tfidf_downsampled_df.pkl')\n",
    "\n",
    "with open('label_encoder_downsampled.pkl', 'rb') as encoder_file:\n",
    "    label_encoder_rf = pickle.load(encoder_file)\n",
    "\n",
    "# Streamlit page title and description\n",
    "st.title('Review Rating and Product Category Prediction')\n",
    "st.write(\"Please enter your product or service review below:\")\n",
    "\n",
    "# User input\n",
    "user_review = st.text_area(\"Enter your review:\", \"\", height=150)\n",
    "\n",
    "# Predict function using Ordinal Regression (for traditional method)\n",
    "def predict_review_ord(review):\n",
    "    review_vectorized = downsampled_tfidf.transform([review])  # Vectorizing the review using the pre-loaded vectorizer\n",
    "    predicted_rating = ord.predict(review_vectorized)  # Prediction (star rating)\n",
    "    return predicted_rating[0]  # Return the predicted rating (single value)\n",
    "\n",
    "# Predict function using Random Forest (for product classification)\n",
    "def predict_review_rf(review):\n",
    "    review_vectorized = downsampled_tfidf.transform([review])  # Vectorize the review\n",
    "    \n",
    "    # Validate the loaded model\n",
    "    if not hasattr(rf, 'predict_proba'):\n",
    "        raise AttributeError(\"The loaded Random Forest model is invalid. Ensure it's correctly saved and loaded.\")\n",
    "    \n",
    "    # Get predicted probabilities for each class\n",
    "    predicted_probabilities = rf.predict_proba(review_vectorized)[0]\n",
    "    \n",
    "    # Get the index of the class with the highest probability\n",
    "    predicted_class_index = np.argmax(predicted_probabilities)\n",
    "    predicted_class = label_encoder_rf.inverse_transform([predicted_class_index])[0]\n",
    "    \n",
    "    # Get the confidence level (probability of the predicted class)\n",
    "    confidence = predicted_probabilities[predicted_class_index] * 100  # Convert to percentage\n",
    "    return predicted_class, confidence\n",
    "\n",
    "# Button to trigger prediction\n",
    "if st.button('Predict'):\n",
    "    if user_review:\n",
    "        # Predict rating using Ordinal Regression\n",
    "        predicted_rating = predict_review_ord(user_review)\n",
    "        \n",
    "        # Predict product category using Random Forest and get confidence\n",
    "        predicted_class, confidence = predict_review_rf(user_review)\n",
    "        \n",
    "        # Display both predictions and confidence\n",
    "        st.subheader(f\"Predicted Rating (Ordinal Regression): {predicted_rating}\")\n",
    "        st.subheader(f\"Predicted Product Category (Random Forest): {predicted_class}\")\n",
    "        st.write(f\"Product confidence: {confidence:.2f}%\")\n",
    "    else:\n",
    "        st.warning(\"Please enter a review to get a prediction.\")\n",
    "\n",
    "\"\"\"\n",
    "\n",
    "# Save this code to a Python file called 'app.py'\n",
    "with open('app.py', 'w') as file:\n",
    "    file.write(streamlit_code)\n",
    "\n",
    "# Step 4: Run the Streamlit app from the notebook\n",
    "!streamlit run app.py "
   ]
  }
 ],
 "metadata": {
  "kernelspec": {
   "display_name": "Python 3",
   "language": "python",
   "name": "python3"
  },
  "language_info": {
   "codemirror_mode": {
    "name": "ipython",
    "version": 3
   },
   "file_extension": ".py",
   "mimetype": "text/x-python",
   "name": "python",
   "nbconvert_exporter": "python",
   "pygments_lexer": "ipython3",
   "version": "3.11.5"
  }
 },
 "nbformat": 4,
 "nbformat_minor": 2
}
