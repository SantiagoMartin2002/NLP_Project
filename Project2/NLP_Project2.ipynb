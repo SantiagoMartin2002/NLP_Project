{
 "cells": [
  {
   "cell_type": "markdown",
   "metadata": {},
   "source": [
    "# **NLP Project 2 : Supervised Learning**\n",
    "## Léo RINGEISSEN and Santiago MARTIN"
   ]
  },
  {
   "cell_type": "markdown",
   "metadata": {},
   "source": [
    "# Library Importations"
   ]
  },
  {
   "cell_type": "code",
   "execution_count": 13,
   "metadata": {},
   "outputs": [],
   "source": [
    "import seaborn as sns\n",
    "import matplotlib.pyplot as plt\n",
    "import pandas as pd\n",
    "import glob"
   ]
  },
  {
   "cell_type": "markdown",
   "metadata": {},
   "source": [
    "# Data Import and Aggregation\n",
    "## Description:\n",
    "This section imports all Excel files, combines them into a single DataFrame, and selects relevant columns for further processing.\n",
    "### Justification:\n",
    "Aggregating all files upfront ensures consistent preprocessing. We select relevant columns (`rating`, `product`, `type`, and `review`) for the supervised learning task."
   ]
  },
  {
   "cell_type": "code",
   "execution_count": 1,
   "metadata": {},
   "outputs": [],
   "source": [
    "# Step 1: Gather all Excel file paths\n",
    "file_paths = glob.glob(\"Traduction avis clients/*.xlsx\")\n",
    "\n",
    "# Step 2: Load and combine files\n",
    "dataframes = []\n",
    "for file in file_paths:\n",
    "    df = pd.read_excel(file)\n",
    "    dataframes.append(df)\n",
    "\n",
    "# Combine all DataFrames into one\n",
    "combined_df = pd.concat(dataframes, ignore_index=True)\n",
    "\n",
    "# Select relevant columns\n",
    "selected_columns = [\"note\", \"produit\", \"type\", \"avis_en\"]  # French column names\n",
    "combined_df = combined_df[selected_columns]\n",
    "\n",
    "# Rename columns to English\n",
    "combined_df.columns = [\"rating\", \"product\", \"type\", \"review\"]"
   ]
  },
  {
   "cell_type": "markdown",
   "metadata": {},
   "source": [
    "# Manual Translation of `product` Column\n",
    "## Description:\n",
    "Manually translate the values in the `product` column to English using predefined mappings.\n",
    "### Justification:\n",
    "Standardizing product names ensures uniformity and facilitates downstream analysis."
   ]
  },
  {
   "cell_type": "code",
   "execution_count": 2,
   "metadata": {},
   "outputs": [],
   "source": [
    "# Correct product translations\n",
    "product_translations = {\n",
    "    \"animaux\": \"animals\",\n",
    "    \"auto\": \"car\",\n",
    "    \"credit\": \"credit\",\n",
    "    \"garantie-decennale\": \"ten-year warranty\",\n",
    "    \"habitation\": \"home\",\n",
    "    \"moto\": \"motorcycle\",\n",
    "    \"multirisque-professionnelle\": \"professional multi-risk\",\n",
    "    \"prevoyance\": \"accidental injury\",\n",
    "    \"responsabilite-civile-professionnelle\": \"professional liability\",\n",
    "    \"sante\": \"health\",\n",
    "    \"vie\": \"life\"\n",
    "}\n",
    "\n",
    "# Apply translations to `product` column\n",
    "combined_df[\"product\"] = combined_df[\"product\"].map(product_translations)"
   ]
  },
  {
   "cell_type": "markdown",
   "metadata": {},
   "source": [
    "# Clean English Reviews\n",
    "## Description:\n",
    "Process the `review` column to:\n",
    "1. Remove faulty reviews containing \"Loading...\".\n",
    "2. Ensure reviews are stripped of extra spaces and line breaks, leaving clean single-line reviews.\n",
    "### Justification:\n",
    "Removing faulty reviews and standardizing formatting enhances data quality and improves model performance."
   ]
  },
  {
   "cell_type": "code",
   "execution_count": 3,
   "metadata": {},
   "outputs": [],
   "source": [
    "# Remove faulty reviews and clean the text\n",
    "combined_df[\"review\"] = (\n",
    "    combined_df[\"review\"]\n",
    "    .str.replace(r\"\\s+\", \" \", regex=True)  # Replace extra spaces and newlines with a single space\n",
    "    .str.strip()  # Remove leading/trailing spaces\n",
    ")\n",
    "\n",
    "# Filter out rows with \"Loading...\"\n",
    "combined_df = combined_df[~combined_df[\"review\"].str.contains(\"Loading...\", na=False)]"
   ]
  },
  {
   "cell_type": "markdown",
   "metadata": {},
   "source": [
    "# Removing null values (focus on ratings)\n",
    "## Description:\n",
    "We're going to remove rows with null values\n",
    "1. The data of type `test` don't have ratings, which problematic for a supervised learning task\n",
    "2. There are also other columns with null values, which can't be exploited\n",
    "### Justification:\n",
    "Removing faulty rows enhances data quality and improves model performance."
   ]
  },
  {
   "cell_type": "code",
   "execution_count": 4,
   "metadata": {},
   "outputs": [
    {
     "name": "stdout",
     "output_type": "stream",
     "text": [
      "rating     9782\n",
      "product      16\n",
      "type          0\n",
      "review        2\n",
      "dtype: int64\n",
      "rating     0\n",
      "product    0\n",
      "type       0\n",
      "review     0\n",
      "dtype: int64\n"
     ]
    }
   ],
   "source": [
    "print(combined_df.isnull().sum())\n",
    "combined_df.dropna(inplace=True)\n",
    "print(combined_df.isnull().sum())"
   ]
  },
  {
   "cell_type": "markdown",
   "metadata": {},
   "source": [
    "# Summary of Cleaned Data\n",
    "## Description:\n",
    "Display a summary of the cleaned dataset, including:\n",
    "1. The total number of rows and columns.\n",
    "2. A count of unique products, ratings, and ratings-product combos, along with their their distribution.\n",
    "3. The first few rows to verify correctness.\n",
    "### Justification:\n",
    "This step ensures the preprocessing pipeline has produced a clean and structured dataset."
   ]
  },
  {
   "cell_type": "code",
   "execution_count": 5,
   "metadata": {},
   "outputs": [
    {
     "name": "stdout",
     "output_type": "stream",
     "text": [
      "Total rows and columns: (23539, 4)\n"
     ]
    }
   ],
   "source": [
    "print(\"Total rows and columns:\", combined_df.shape)"
   ]
  },
  {
   "cell_type": "code",
   "execution_count": 6,
   "metadata": {},
   "outputs": [
    {
     "name": "stdout",
     "output_type": "stream",
     "text": [
      "\n",
      "Unique ratings and counts:\n",
      "rating\n",
      "1.0    7094\n",
      "4.0    4771\n",
      "5.0    4745\n",
      "2.0    3635\n",
      "3.0    3294\n",
      "Name: count, dtype: int64\n"
     ]
    }
   ],
   "source": [
    "print(\"\\nUnique ratings and counts:\")\n",
    "print(combined_df[\"rating\"].value_counts())\n",
    "\n",
    "sns.countplot(x=\"rating\", data=combined_df)\n",
    "plt.title(\"Distribution of Ratings\")\n",
    "plt.show()"
   ]
  },
  {
   "cell_type": "code",
   "execution_count": 7,
   "metadata": {},
   "outputs": [
    {
     "name": "stdout",
     "output_type": "stream",
     "text": [
      "\n",
      "Unique product categories and counts:\n",
      "product\n",
      "car                        13745\n",
      "health                      3443\n",
      "motorcycle                  2063\n",
      "home                        1922\n",
      "accidental injury            768\n",
      "credit                       640\n",
      "life                         559\n",
      "animals                      364\n",
      "professional multi-risk       19\n",
      "ten-year warranty             11\n",
      "professional liability         5\n",
      "Name: count, dtype: int64\n"
     ]
    }
   ],
   "source": [
    "print(\"\\nUnique product categories and counts:\")\n",
    "print(combined_df[\"product\"].value_counts())\n",
    "\n",
    "sns.countplot(x=\"product\", data=combined_df)\n",
    "plt.title(\"Distribution of Products\")\n",
    "plt.show()"
   ]
  },
  {
   "cell_type": "code",
   "execution_count": 15,
   "metadata": {},
   "outputs": [
    {
     "name": "stdout",
     "output_type": "stream",
     "text": [
      "\n",
      "Count of products per rating:\n",
      "rating  product                \n",
      "1.0     car                        2948\n",
      "        health                     1381\n",
      "        home                       1054\n",
      "        accidental injury           506\n",
      "        life                        395\n",
      "        motorcycle                  309\n",
      "        credit                      265\n",
      "        animals                     214\n",
      "        ten-year warranty             9\n",
      "        professional multi-risk       8\n",
      "        professional liability        5\n",
      "2.0     car                        2049\n",
      "        home                        526\n",
      "        health                      431\n",
      "        motorcycle                  264\n",
      "        accidental injury           115\n",
      "        credit                       95\n",
      "        life                         84\n",
      "        animals                      70\n",
      "        professional multi-risk       1\n",
      "3.0     car                        2096\n",
      "        health                      522\n",
      "        motorcycle                  263\n",
      "        home                        192\n",
      "        accidental injury            81\n",
      "        life                         62\n",
      "        credit                       45\n",
      "        animals                      33\n",
      "4.0     car                        3342\n",
      "        health                      651\n",
      "        motorcycle                  537\n",
      "        home                         91\n",
      "        credit                       76\n",
      "        accidental injury            33\n",
      "        animals                      20\n",
      "        life                         12\n",
      "        professional multi-risk       8\n",
      "        ten-year warranty             1\n",
      "5.0     car                        3310\n",
      "        motorcycle                  690\n",
      "        health                      458\n",
      "        credit                      159\n",
      "        home                         59\n",
      "        accidental injury            33\n",
      "        animals                      27\n",
      "        life                          6\n",
      "        professional multi-risk       2\n",
      "        ten-year warranty             1\n",
      "Name: count, dtype: int64\n"
     ]
    },
    {
     "data": {
      "image/png": "[encoded data removed]",
      "text/plain": [
       "<Figure size 1200x600 with 1 Axes>"
      ]
     },
     "metadata": {},
     "output_type": "display_data"
    }
   ],
   "source": [
    "print(\"\\nCount of products per rating:\")\n",
    "print(combined_df.groupby(\"rating\")[\"product\"].value_counts())\n",
    "\n",
    "plt.figure(figsize=(12, 6))\n",
    "sns.countplot(data=combined_df, x=\"rating\", hue=\"product\")\n",
    "plt.title(\"Rating distribution per product category\")\n",
    "plt.show()"
   ]
  },
  {
   "cell_type": "code",
   "execution_count": 8,
   "metadata": {},
   "outputs": [
    {
     "name": "stdout",
     "output_type": "stream",
     "text": [
      "\n",
      "Sample data:\n"
     ]
    },
    {
     "data": {
      "text/html": [
       "<div>\n",
       "<style scoped>\n",
       "    .dataframe tbody tr th:only-of-type {\n",
       "        vertical-align: middle;\n",
       "    }\n",
       "\n",
       "    .dataframe tbody tr th {\n",
       "        vertical-align: top;\n",
       "    }\n",
       "\n",
       "    .dataframe thead th {\n",
       "        text-align: right;\n",
       "    }\n",
       "</style>\n",
       "<table border=\"1\" class=\"dataframe\">\n",
       "  <thead>\n",
       "    <tr style=\"text-align: right;\">\n",
       "      <th></th>\n",
       "      <th>rating</th>\n",
       "      <th>product</th>\n",
       "      <th>type</th>\n",
       "      <th>review</th>\n",
       "    </tr>\n",
       "  </thead>\n",
       "  <tbody>\n",
       "    <tr>\n",
       "      <th>0</th>\n",
       "      <td>4.0</td>\n",
       "      <td>car</td>\n",
       "      <td>train</td>\n",
       "      <td>The person on the phone was clear and friendly...</td>\n",
       "    </tr>\n",
       "    <tr>\n",
       "      <th>1</th>\n",
       "      <td>4.0</td>\n",
       "      <td>motorcycle</td>\n",
       "      <td>train</td>\n",
       "      <td>Satisfied. Reactivity, simplicity. Attractive ...</td>\n",
       "    </tr>\n",
       "    <tr>\n",
       "      <th>2</th>\n",
       "      <td>1.0</td>\n",
       "      <td>life</td>\n",
       "      <td>train</td>\n",
       "      <td>Insurer to flee, does not ensure its responsib...</td>\n",
       "    </tr>\n",
       "    <tr>\n",
       "      <th>3</th>\n",
       "      <td>1.0</td>\n",
       "      <td>home</td>\n",
       "      <td>train</td>\n",
       "      <td>The GMF has been waiting for a water damage fo...</td>\n",
       "    </tr>\n",
       "    <tr>\n",
       "      <th>4</th>\n",
       "      <td>3.0</td>\n",
       "      <td>car</td>\n",
       "      <td>train</td>\n",
       "      <td>I am good with this insurance. She is practica...</td>\n",
       "    </tr>\n",
       "  </tbody>\n",
       "</table>\n",
       "</div>"
      ],
      "text/plain": [
       "   rating     product   type   \n",
       "0     4.0         car  train  \\\n",
       "1     4.0  motorcycle  train   \n",
       "2     1.0        life  train   \n",
       "3     1.0        home  train   \n",
       "4     3.0         car  train   \n",
       "\n",
       "                                              review  \n",
       "0  The person on the phone was clear and friendly...  \n",
       "1  Satisfied. Reactivity, simplicity. Attractive ...  \n",
       "2  Insurer to flee, does not ensure its responsib...  \n",
       "3  The GMF has been waiting for a water damage fo...  \n",
       "4  I am good with this insurance. She is practica...  "
      ]
     },
     "metadata": {},
     "output_type": "display_data"
    }
   ],
   "source": [
    "print(\"\\nSample data:\")\n",
    "display(combined_df.head())"
   ]
  },
  {
   "cell_type": "code",
   "execution_count": 9,
   "metadata": {},
   "outputs": [],
   "source": [
    "combined_df.to_csv(\"combined_reviews.csv\", index=False)"
   ]
  },
  {
   "cell_type": "markdown",
   "metadata": {},
   "source": [
    "# Exploratory Data Analysis and Word Frequency\n",
    "In this section, we'll analyze the cleaned text reviews to highlight frequent words and n-grams. This helps us understand the data distribution and potential features for model building."
   ]
  },
  {
   "cell_type": "code",
   "execution_count": 16,
   "metadata": {},
   "outputs": [
    {
     "ename": "ModuleNotFoundError",
     "evalue": "No module named 'wordcloud'",
     "output_type": "error",
     "traceback": [
      "\u001b[1;31m---------------------------------------------------------------------------\u001b[0m",
      "\u001b[1;31mModuleNotFoundError\u001b[0m                       Traceback (most recent call last)",
      "Cell \u001b[1;32mIn[16], line 3\u001b[0m\n\u001b[0;32m      1\u001b[0m \u001b[38;5;28;01mfrom\u001b[39;00m \u001b[38;5;21;01msklearn\u001b[39;00m\u001b[38;5;21;01m.\u001b[39;00m\u001b[38;5;21;01mfeature_extraction\u001b[39;00m\u001b[38;5;21;01m.\u001b[39;00m\u001b[38;5;21;01mtext\u001b[39;00m \u001b[38;5;28;01mimport\u001b[39;00m CountVectorizer\n\u001b[0;32m      2\u001b[0m \u001b[38;5;28;01mimport\u001b[39;00m \u001b[38;5;21;01mmatplotlib\u001b[39;00m\u001b[38;5;21;01m.\u001b[39;00m\u001b[38;5;21;01mpyplot\u001b[39;00m \u001b[38;5;28;01mas\u001b[39;00m \u001b[38;5;21;01mplt\u001b[39;00m\n\u001b[1;32m----> 3\u001b[0m \u001b[38;5;28;01mfrom\u001b[39;00m \u001b[38;5;21;01mwordcloud\u001b[39;00m \u001b[38;5;28;01mimport\u001b[39;00m WordCloud\n\u001b[0;32m      5\u001b[0m \u001b[38;5;66;03m# Generate n-grams\u001b[39;00m\n\u001b[0;32m      6\u001b[0m \u001b[38;5;28;01mdef\u001b[39;00m \u001b[38;5;21mplot_ngrams\u001b[39m(reviews, n\u001b[38;5;241m=\u001b[39m\u001b[38;5;241m1\u001b[39m, top_n\u001b[38;5;241m=\u001b[39m\u001b[38;5;241m20\u001b[39m):\n",
      "\u001b[1;31mModuleNotFoundError\u001b[0m: No module named 'wordcloud'"
     ]
    }
   ],
   "source": [
    "from sklearn.feature_extraction.text import CountVectorizer\n",
    "import matplotlib.pyplot as plt\n",
    "from wordcloud import WordCloud\n",
    "\n",
    "# Generate n-grams\n",
    "def plot_ngrams(reviews, n=1, top_n=20):\n",
    "    vectorizer = CountVectorizer(ngram_range=(n, n), stop_words='english')\n",
    "    ngram_counts = vectorizer.fit_transform(reviews)\n",
    "    ngram_freq = ngram_counts.sum(axis=0).A1\n",
    "    ngram_words = vectorizer.get_feature_names_out()\n",
    "    ngram_data = sorted(zip(ngram_freq, ngram_words), reverse=True)[:top_n]\n",
    "    \n",
    "    plt.barh([x[1] for x in ngram_data], [x[0] for x in ngram_data])\n",
    "    plt.xlabel(\"Frequency\")\n",
    "    plt.title(f\"Top {n}-grams\")\n",
    "    plt.show()\n",
    "\n",
    "# Plot frequent words and bigrams\n",
    "plot_ngrams(df['review'], n=1)  # Unigrams\n",
    "plot_ngrams(df['review'], n=2)  # Bigrams\n",
    "\n",
    "# Generate WordCloud\n",
    "wordcloud = WordCloud(width=800, height=400, background_color=\"white\").generate(' '.join(df['review']))"
   ]
  }
 ],
 "metadata": {
  "kernelspec": {
   "display_name": "Python 3",
   "language": "python",
   "name": "python3"
  },
  "language_info": {
   "codemirror_mode": {
    "name": "ipython",
    "version": 3
   },
   "file_extension": ".py",
   "mimetype": "text/x-python",
   "name": "python",
   "nbconvert_exporter": "python",
   "pygments_lexer": "ipython3",
   "version": "3.11.7"
  }
 },
 "nbformat": 4,
 "nbformat_minor": 2
}
