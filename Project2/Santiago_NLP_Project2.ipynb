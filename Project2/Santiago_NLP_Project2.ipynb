{
 "cells": [
  {
   "cell_type": "markdown",
   "metadata": {},
   "source": [
    "# **NLP Project 2 : Supervised Learning**\n",
    "## Léo RINGEISSEN and Santiago MARTIN"
   ]
  },
  {
   "cell_type": "markdown",
   "metadata": {},
   "source": [
    "# Library Importations"
   ]
  },
  {
   "cell_type": "code",
   "execution_count": 2,
   "metadata": {},
   "outputs": [],
   "source": [
    "import seaborn as sns\n",
    "import matplotlib.pyplot as plt\n",
    "import pandas as pd\n",
    "import glob"
   ]
  },
  {
   "cell_type": "markdown",
   "metadata": {},
   "source": [
    "# Data Import and Aggregation"
   ]
  },
  {
   "cell_type": "code",
   "execution_count": 3,
   "metadata": {},
   "outputs": [],
   "source": [
    "# Step 1: Gather all Excel file paths\n",
    "file_paths = glob.glob(\"Traduction avis clients/*.xlsx\")\n",
    "\n",
    "# Step 2: Load and combine files\n",
    "dataframes = []\n",
    "for file in file_paths:\n",
    "    df = pd.read_excel(file)\n",
    "    dataframes.append(df)\n",
    "\n",
    "# Combine all DataFrames into one\n",
    "combined_df = pd.concat(dataframes, ignore_index=True)\n",
    "\n",
    "# Select relevant columns\n",
    "selected_columns = [\"note\", \"produit\", \"type\", \"avis_en\"]  # French column names\n",
    "combined_df = combined_df[selected_columns]\n",
    "\n",
    "# Rename columns to English\n",
    "combined_df.columns = [\"rating\", \"product\", \"type\", \"review\"]"
   ]
  },
  {
   "cell_type": "markdown",
   "metadata": {},
   "source": [
    "# Manual Translation of `product` Column"
   ]
  },
  {
   "cell_type": "code",
   "execution_count": 4,
   "metadata": {},
   "outputs": [],
   "source": [
    "# Correct product translations\n",
    "product_translations = {\n",
    "    \"animaux\": \"animals\",\n",
    "    \"auto\": \"car\",\n",
    "    \"credit\": \"credit\",\n",
    "    \"garantie-decennale\": \"ten-year warranty\",\n",
    "    \"habitation\": \"home\",\n",
    "    \"moto\": \"motorcycle\",\n",
    "    \"multirisque-professionnelle\": \"professional multi-risk\",\n",
    "    \"prevoyance\": \"accidental injury\",\n",
    "    \"responsabilite-civile-professionnelle\": \"professional liability\",\n",
    "    \"sante\": \"health\",\n",
    "    \"vie\": \"life\"\n",
    "}\n",
    "\n",
    "# Apply translations to `product` column\n",
    "combined_df[\"product\"] = combined_df[\"product\"].map(product_translations)"
   ]
  },
  {
   "cell_type": "markdown",
   "metadata": {},
   "source": [
    "# Clean English Reviews"
   ]
  },
  {
   "cell_type": "code",
   "execution_count": 5,
   "metadata": {},
   "outputs": [],
   "source": [
    "# Remove faulty reviews and clean the text\n",
    "combined_df[\"review\"] = (\n",
    "    combined_df[\"review\"]\n",
    "    .str.replace(r\"\\s+\", \" \", regex=True)  # Replace extra spaces and newlines with a single space\n",
    "    .str.strip()  # Remove leading/trailing spaces\n",
    ")\n",
    "\n",
    "# Filter out rows with \"Loading...\"\n",
    "combined_df = combined_df[~combined_df[\"review\"].str.contains(\"Loading...\", na=False)]"
   ]
  },
  {
   "cell_type": "markdown",
   "metadata": {},
   "source": [
    "# Removing null values (focus on ratings)"
   ]
  },
  {
   "cell_type": "code",
   "execution_count": null,
   "metadata": {},
   "outputs": [],
   "source": [
    "print(combined_df.isnull().sum())\n",
    "combined_df.dropna(inplace=True)\n",
    "print(combined_df.isnull().sum())"
   ]
  },
  {
   "cell_type": "markdown",
   "metadata": {},
   "source": [
    "# Summary of Cleaned Data"
   ]
  },
  {
   "cell_type": "code",
   "execution_count": null,
   "metadata": {},
   "outputs": [],
   "source": [
    "print(\"Total rows and columns:\", combined_df.shape)"
   ]
  },
  {
   "cell_type": "code",
   "execution_count": null,
   "metadata": {},
   "outputs": [],
   "source": [
    "print(\"\\nUnique ratings and counts:\")\n",
    "print(combined_df[\"rating\"].value_counts())\n",
    "\n",
    "sns.countplot(x=\"rating\", data=combined_df)\n",
    "plt.title(\"Distribution of Ratings\")\n",
    "plt.show()"
   ]
  },
  {
   "cell_type": "code",
   "execution_count": null,
   "metadata": {},
   "outputs": [],
   "source": [
    "print(\"\\nUnique product categories and counts:\")\n",
    "print(combined_df[\"product\"].value_counts())\n",
    "\n",
    "sns.countplot(x=\"product\", data=combined_df)\n",
    "plt.title(\"Distribution of Products\")\n",
    "plt.show()"
   ]
  },
  {
   "cell_type": "code",
   "execution_count": null,
   "metadata": {},
   "outputs": [],
   "source": [
    "print(\"\\nCount of products per rating:\")\n",
    "print(combined_df.groupby(\"rating\")[\"product\"].value_counts())\n",
    "\n",
    "plt.figure(figsize=(12, 6))\n",
    "sns.countplot(data=combined_df, x=\"rating\", hue=\"product\")\n",
    "plt.title(\"Rating distribution per product category\")\n",
    "plt.show()"
   ]
  },
  {
   "cell_type": "code",
   "execution_count": null,
   "metadata": {},
   "outputs": [],
   "source": [
    "print(\"\\nSample data:\")\n",
    "display(combined_df.head())"
   ]
  },
  {
   "cell_type": "code",
   "execution_count": 12,
   "metadata": {},
   "outputs": [],
   "source": [
    "combined_df.to_csv(\"combined_reviews.csv\", index=False)"
   ]
  },
  {
   "cell_type": "markdown",
   "metadata": {},
   "source": [
    "# Preprocessing reviews"
   ]
  },
  {
   "cell_type": "code",
   "execution_count": null,
   "metadata": {},
   "outputs": [],
   "source": [
    "import pandas as pd\n",
    "import re\n",
    "import nltk\n",
    "from nltk.corpus import stopwords\n",
    "from nltk.stem import WordNetLemmatizer, PorterStemmer\n",
    "\n",
    "# Download necessary NLTK resources\n",
    "nltk.download('stopwords')\n",
    "nltk.download('wordnet')\n",
    "nltk.download('omw-1.4')\n",
    "\n",
    "# Initialize stopwords and lemmatizer\n",
    "stop_words = set(stopwords.words('english'))\n",
    "lemmatizer = WordNetLemmatizer()\n",
    "stemmer = PorterStemmer()\n",
    "\n",
    "def preprocess_text(text):\n",
    "    \"\"\"Cleans and preprocesses text data.\"\"\"\n",
    "    # Lowercase\n",
    "    text = text.lower()\n",
    "    # Remove punctuation\n",
    "    text = re.sub(r'[^\\w\\s]', '', text)\n",
    "    # Remove stop words\n",
    "    text = ' '.join(word for word in text.split() if word not in stop_words)\n",
    "    # Lemmatize words\n",
    "    text = ' '.join(lemmatizer.lemmatize(word) for word in text.split())\n",
    "    # Stem words (optional, depending on need)\n",
    "    # text = ' '.join(stemmer.stem(word) for word in text.split())\n",
    "    return text\n",
    "\n",
    "# Apply preprocessing to the review column\n",
    "combined_df['review'] = combined_df['review'].apply(preprocess_text)"
   ]
  },
  {
   "cell_type": "code",
   "execution_count": null,
   "metadata": {},
   "outputs": [],
   "source": [
    "# Check a sample of the preprocessed reviews\n",
    "display(combined_df['review'].head())"
   ]
  },
  {
   "cell_type": "code",
   "execution_count": null,
   "metadata": {},
   "outputs": [],
   "source": [
    "from sklearn.feature_extraction.text import TfidfVectorizer\n",
    "from gensim.models import Word2Vec\n",
    "from sentence_transformers import SentenceTransformer\n",
    "import numpy as np\n",
    "\n",
    "# Sample reviews for demonstration\n",
    "sample_reviews = combined_df['review'].values  # Replace with actual reviews column\n",
    "\n",
    "# 1. TF-IDF\n",
    "print(\"Starting TF-IDF Vectorization...\")\n",
    "tfidf_vectorizer = TfidfVectorizer(max_features=5000)\n",
    "X_tfidf = tfidf_vectorizer.fit_transform(sample_reviews)\n",
    "print(\"TF-IDF vectorization completed. Shape:\", X_tfidf.shape)\n",
    "\n",
    "# 2. Word2Vec\n",
    "print(\"Starting Word2Vec Training...\")\n",
    "# Tokenize the reviews for Word2Vec\n",
    "tokenized_reviews = [review.split() for review in sample_reviews]\n",
    "word2vec_model = Word2Vec(sentences=tokenized_reviews, vector_size=300, window=5, min_count=1, workers=4)\n",
    "\n",
    "def average_word2vec(tokens, model, vector_size=300):\n",
    "    \"\"\"Compute average Word2Vec embedding for a tokenized review.\"\"\"\n",
    "    vectors = [model.wv[word] for word in tokens if word in model.wv]\n",
    "    if len(vectors) == 0:\n",
    "        return np.zeros(vector_size)\n",
    "    return np.mean(vectors, axis=0)\n",
    "\n",
    "X_w2v = np.array([average_word2vec(tokens, word2vec_model) for tokens in tokenized_reviews])\n",
    "print(\"Word2Vec vectorization completed. Shape:\", X_w2v.shape)\n",
    "\n",
    "# 3. Sentence-BERT\n",
    "print(\"Starting Sentence-BERT Embedding...\")\n",
    "sbert_model = SentenceTransformer('all-MiniLM-L6-v2')\n",
    "X_sbert = sbert_model.encode(sample_reviews, show_progress_bar=True)\n",
    "print(\"Sentence-BERT vectorization completed. Shape:\", X_sbert.shape)\n",
    "\n",
    "# Save the vectorized data for later use\n",
    "np.savez(\"vectorized_data.npz\", tfidf=X_tfidf.toarray(), w2v=X_w2v, sbert=X_sbert)\n",
    "\n",
    "print(\"All vectorization methods completed.\")"
   ]
  },
  {
   "cell_type": "markdown",
   "metadata": {},
   "source": [
    "# Exploratory Data Analysis and Word Frequency\n",
    "In this section, we'll analyze the cleaned text reviews to highlight frequent words and n-grams. This helps us understand the data distribution and potential features for model building."
   ]
  },
  {
   "cell_type": "code",
   "execution_count": null,
   "metadata": {},
   "outputs": [],
   "source": [
    "from sklearn.feature_extraction.text import CountVectorizer\n",
    "import matplotlib.pyplot as plt\n",
    "from wordcloud import WordCloud\n",
    "\n",
    "# Generate n-grams\n",
    "def plot_ngrams(reviews, n=1, top_n=20):\n",
    "    vectorizer = CountVectorizer(ngram_range=(n, n), stop_words='english')\n",
    "    ngram_counts = vectorizer.fit_transform(reviews)\n",
    "    ngram_freq = ngram_counts.sum(axis=0).A1\n",
    "    ngram_words = vectorizer.get_feature_names_out()\n",
    "    ngram_data = sorted(zip(ngram_freq, ngram_words), reverse=True)[:top_n]\n",
    "    \n",
    "    plt.barh([x[1] for x in ngram_data], [x[0] for x in ngram_data])\n",
    "    plt.xlabel(\"Frequency\")\n",
    "    plt.title(f\"Top {n}-grams\")\n",
    "    plt.show()\n",
    "\n",
    "# Plot frequent words and bigrams\n",
    "plot_ngrams(df['review'], n=1)  # Unigrams\n",
    "plot_ngrams(df['review'], n=2)  # Bigrams\n",
    "plot_ngrams(df['review'], n=3)  # Trigrams\n",
    "\n",
    "# Generate WordCloud\n",
    "wordcloud = WordCloud(width=800, height=400, background_color=\"white\").generate(' '.join(df['review']))"
   ]
  },
  {
   "cell_type": "markdown",
   "metadata": {},
   "source": [
    "# Predicting Ratings Using Classical ML Models\n",
    "This section focuses on predicting star ratings using text reviews. We'll extract TF-IDF features and train models like Logistic Regression and Random Forest. The performance will be evaluated using metrics such as accuracy, F1-score, and confusion matrix."
   ]
  },
  {
   "cell_type": "code",
   "execution_count": null,
   "metadata": {},
   "outputs": [],
   "source": [
    "from sklearn.feature_extraction.text import TfidfVectorizer\n",
    "from sklearn.model_selection import train_test_split\n",
    "from sklearn.linear_model import LogisticRegression\n",
    "from sklearn.metrics import classification_report, confusion_matrix\n",
    "import seaborn as sns\n",
    "\n",
    "# TF-IDF Feature Extraction\n",
    "tfidf = TfidfVectorizer(max_features=5000)\n",
    "X = tfidf.fit_transform(df['review'])\n",
    "y_ratings = df['rating']\n",
    "\n",
    "# Train-Test Split\n",
    "X_train, X_test, y_train, y_test = train_test_split(X, y_ratings, test_size=0.2, random_state=42)\n",
    "\n",
    "# Logistic Regression for Ratings\n",
    "lr = LogisticRegression(max_iter=1000)\n",
    "lr.fit(X_train, y_train)\n",
    "y_pred = lr.predict(X_test)\n",
    "\n",
    "# Evaluation\n",
    "print(\"Classification Report for Ratings:\")\n",
    "print(classification_report(y_test, y_pred))\n",
    "\n",
    "# Confusion Matrix\n",
    "cm = confusion_matrix(y_test, y_pred)\n",
    "sns.heatmap(cm, annot=True, fmt=\"d\", cmap=\"Blues\", xticklabels=lr.classes_, yticklabels=lr.classes_)\n",
    "plt.xlabel(\"Predicted\")\n",
    "plt.ylabel(\"True\")\n",
    "plt.title(\"Confusion Matrix for Ratings\")\n",
    "plt.show()"
   ]
  },
  {
   "cell_type": "markdown",
   "metadata": {},
   "source": [
    "# Predicting Product Categories Using Classical ML Models\n",
    "In this section, we predict the product category associated with each review. We'll use TF-IDF for feature extraction and train models like Logistic Regression and Random Forest. The evaluation focuses on metrics such as accuracy and confusion matrices."
   ]
  },
  {
   "cell_type": "code",
   "execution_count": null,
   "metadata": {},
   "outputs": [],
   "source": [
    "# Labels for Products\n",
    "y_products = df['product']\n",
    "\n",
    "# Train-Test Split\n",
    "X_train, X_test, y_train, y_test = train_test_split(X, y_products, test_size=0.2, random_state=42)\n",
    "\n",
    "# Logistic Regression for Products\n",
    "lr_product = LogisticRegression(max_iter=1000, multi_class=\"ovr\")\n",
    "lr_product.fit(X_train, y_train)\n",
    "y_pred_product = lr_product.predict(X_test)\n",
    "\n",
    "# Evaluation\n",
    "print(\"Classification Report for Products:\")\n",
    "print(classification_report(y_test, y_pred_product))\n",
    "\n",
    "# Confusion Matrix\n",
    "cm_product = confusion_matrix(y_test, y_pred_product, labels=lr_product.classes_)\n",
    "sns.heatmap(cm_product, annot=True, fmt=\"d\", cmap=\"Blues\", xticklabels=lr_product.classes_, yticklabels=lr_product.classes_)\n",
    "plt.xlabel(\"Predicted\")\n",
    "plt.ylabel(\"True\")\n",
    "plt.title(\"Confusion Matrix for Products\")\n",
    "plt.show()"
   ]
  },
  {
   "cell_type": "code",
   "execution_count": null,
   "metadata": {},
   "outputs": [],
   "source": [
    "### Step 2: Group Ratings\n",
    "\n",
    "def group_ratings(row):\n",
    "    if row['rating'] == 1:\n",
    "        return 'Bad'\n",
    "    elif row['rating'] in [2, 3]:\n",
    "        return 'Neutral'\n",
    "    elif row['rating'] == 4:\n",
    "        return 'Good'\n",
    "    elif row['rating'] == 5:\n",
    "        return 'Great'\n",
    "\n",
    "combined_df['rating_grouped'] = combined_df.apply(group_ratings, axis=1)\n",
    "\n",
    "# Visualize grouped ratings\n",
    "plt.figure(figsize=(8, 5))\n",
    "sns.countplot(data=combined_df, x='rating_grouped', order=['Bad', 'Neutral', 'Good', 'Great'])\n",
    "plt.title(\"Distribution of Grouped Ratings\")\n",
    "plt.show()"
   ]
  },
  {
   "cell_type": "markdown",
   "metadata": {},
   "source": [
    "# Predicting Ratings Using Classical ML Models\n",
    "This section focuses on predicting star ratings using text reviews. We'll extract TF-IDF features and train models like Logistic Regression and Random Forest. The performance will be evaluated using metrics such as accuracy, F1-score, and confusion matrix."
   ]
  },
  {
   "cell_type": "code",
   "execution_count": null,
   "metadata": {},
   "outputs": [],
   "source": [
    "from sklearn.feature_extraction.text import TfidfVectorizer\n",
    "from sklearn.model_selection import train_test_split\n",
    "from sklearn.linear_model import LogisticRegression\n",
    "from sklearn.metrics import classification_report, confusion_matrix\n",
    "import seaborn as sns\n",
    "\n",
    "# TF-IDF Feature Extraction\n",
    "tfidf = TfidfVectorizer(max_features=5000)\n",
    "X = tfidf.fit_transform(combined_df['review'])\n",
    "y_ratings = combined_df['rating_grouped']\n",
    "\n",
    "# Train-Test Split\n",
    "X_train, X_test, y_train, y_test = train_test_split(X, y_ratings, test_size=0.2, random_state=42)\n",
    "\n",
    "# Logistic Regression for Ratings\n",
    "lr = LogisticRegression(max_iter=1000)\n",
    "lr.fit(X_train, y_train)\n",
    "y_pred = lr.predict(X_test)\n",
    "\n",
    "# Evaluation\n",
    "print(\"Classification Report for Ratings:\")\n",
    "print(classification_report(y_test, y_pred))\n",
    "\n",
    "# Confusion Matrix\n",
    "cm = confusion_matrix(y_test, y_pred)\n",
    "sns.heatmap(cm, annot=True, fmt=\"d\", cmap=\"Blues\", xticklabels=lr.classes_, yticklabels=lr.classes_)\n",
    "plt.xlabel(\"Predicted\")\n",
    "plt.ylabel(\"True\")\n",
    "plt.title(\"Confusion Matrix for Ratings\")\n",
    "plt.show()"
   ]
  },
  {
   "cell_type": "markdown",
   "metadata": {},
   "source": [
    "# Predicting Product Categories Using Classical ML Models\n",
    "In this section, we predict the product category associated with each review. We'll use TF-IDF for feature extraction and train models like Logistic Regression and Random Forest. The evaluation focuses on metrics such as accuracy and confusion matrices."
   ]
  },
  {
   "cell_type": "code",
   "execution_count": null,
   "metadata": {},
   "outputs": [],
   "source": [
    "# Labels for Products\n",
    "y_products = combined_df['product']\n",
    "\n",
    "# Train-Test Split\n",
    "X_train, X_test, y_train, y_test = train_test_split(X, y_products, test_size=0.2, random_state=42)\n",
    "\n",
    "# Logistic Regression for Products\n",
    "lr_product = LogisticRegression(max_iter=1000, multi_class=\"ovr\")\n",
    "lr_product.fit(X_train, y_train)\n",
    "y_pred_product = lr_product.predict(X_test)\n",
    "\n",
    "# Evaluation\n",
    "print(\"Classification Report for Products:\")\n",
    "print(classification_report(y_test, y_pred_product))\n",
    "\n",
    "# Confusion Matrix\n",
    "cm_product = confusion_matrix(y_test, y_pred_product, labels=lr_product.classes_)\n",
    "sns.heatmap(cm_product, annot=True, fmt=\"d\", cmap=\"Blues\", xticklabels=lr_product.classes_, yticklabels=lr_product.classes_)\n",
    "plt.xlabel(\"Predicted\")\n",
    "plt.ylabel(\"True\")\n",
    "plt.title(\"Confusion Matrix for Products\")\n",
    "plt.show()"
   ]
  },
  {
   "cell_type": "code",
   "execution_count": null,
   "metadata": {},
   "outputs": [],
   "source": [
    "### Step 3: Upsample Underrepresented Products with Paraphrasing\n",
    "from transformers import pipeline\n",
    "import random\n",
    "\n",
    "def augment_reviews_with_paraphrasing_batched(df, product_column, review_column, target_count, batch_size=10):\n",
    "    paraphraser = pipeline(\"text2text-generation\", model=\"t5-small\", device=-1)\n",
    "\n",
    "    augmented_data = []\n",
    "\n",
    "    for product, group in df.groupby(product_column):\n",
    "        deficit = max(0, target_count - len(group))\n",
    "        if deficit == 0:\n",
    "            continue\n",
    "\n",
    "        reviews_to_augment = random.choices(group[review_column].tolist(), k=deficit)\n",
    "\n",
    "        # Batch processing\n",
    "        for i in range(0, len(reviews_to_augment), batch_size):\n",
    "            batch = reviews_to_augment[i : i + batch_size]\n",
    "            try:\n",
    "                paraphrased = paraphraser(\n",
    "                    [f\"paraphrase: {review}\" for review in batch],\n",
    "                    max_length=60,\n",
    "                    num_return_sequences=1,\n",
    "                    truncation=True,\n",
    "                )\n",
    "                augmented_data.extend(\n",
    "                    {\n",
    "                        product_column: product,\n",
    "                        review_column: result[\"generated_text\"],\n",
    "                        \"rating_grouped\": group[\"rating_grouped\"].iloc[0],\n",
    "                    }\n",
    "                    for result in paraphrased\n",
    "                )\n",
    "            except Exception as e:\n",
    "                print(f\"Error during paraphrasing batch: {e}\")\n",
    "                continue\n",
    "\n",
    "    return pd.DataFrame(augmented_data)\n",
    "\n",
    "# Determine the target count for underrepresented products\n",
    "median_count = combined_df[\"product\"].value_counts().median()\n",
    "\n",
    "# Apply the function to upsample\n",
    "augmented_reviews = augment_reviews_with_paraphrasing_batched(\n",
    "    combined_df, \"product\", \"review\", int(median_count)\n",
    ")\n",
    "\n",
    "# Combine the augmented data with the original dataframe\n",
    "augmented_df = pd.concat([combined_df, augmented_reviews], ignore_index=True)\n",
    "\n",
    "print(\"Data Shape After Augmentation:\", augmented_df.shape)"
   ]
  },
  {
   "cell_type": "code",
   "execution_count": null,
   "metadata": {},
   "outputs": [],
   "source": [
    "### Step 4: Verify Distribution After Augmentation\n",
    "print(\"Product Distribution After Augmentation:\")\n",
    "print(augmented_df[\"product\"].value_counts())\n",
    "augmented_df.to_csv(\"augmented_reviews.csv\", index=False)"
   ]
  },
  {
   "cell_type": "code",
   "execution_count": 38,
   "metadata": {},
   "outputs": [],
   "source": [
    "### Step 5: Modeling Preparation\n",
    "from sklearn.feature_extraction.text import TfidfVectorizer\n",
    "\n",
    "# TF-IDF Vectorization\n",
    "vectorizer = TfidfVectorizer(max_features=5000)\n",
    "X = vectorizer.fit_transform(augmented_df['review'])\n",
    "\n",
    "# Encode labels for grouped ratings and products\n",
    "from sklearn.preprocessing import LabelEncoder\n",
    "\n",
    "rating_encoder = LabelEncoder()\n",
    "product_encoder = LabelEncoder()\n",
    "\n",
    "augmented_df['rating_encoded'] = rating_encoder.fit_transform(augmented_df['rating_grouped'])\n",
    "augmented_df['product_encoded'] = product_encoder.fit_transform(augmented_df['product'])\n",
    "\n",
    "# Split data\n",
    "from sklearn.model_selection import train_test_split\n",
    "\n",
    "# For ratings prediction\n",
    "X_train_r, X_test_r, y_train_r, y_test_r = train_test_split(X, augmented_df['rating_encoded'], test_size=0.2, random_state=42)\n",
    "\n",
    "# For product prediction\n",
    "X_train_p, X_test_p, y_train_p, y_test_p = train_test_split(X, augmented_df['product_encoded'], test_size=0.2, random_state=42)"
   ]
  },
  {
   "cell_type": "code",
   "execution_count": null,
   "metadata": {},
   "outputs": [],
   "source": [
    "### Step 6: Modeling\n",
    "from sklearn.linear_model import LogisticRegression\n",
    "from sklearn.metrics import classification_report\n",
    "\n",
    "# Logistic Regression for Ratings\n",
    "clf_ratings = LogisticRegression(max_iter=500)\n",
    "clf_ratings.fit(X_train_r, y_train_r)\n",
    "ratings_pred = clf_ratings.predict(X_test_r)\n",
    "print(\"Classification Report for Ratings:\")\n",
    "print(classification_report(y_test_r, ratings_pred, target_names=rating_encoder.classes_))\n",
    "\n",
    "# Logistic Regression for Products\n",
    "clf_products = LogisticRegression(max_iter=500)\n",
    "clf_products.fit(X_train_p, y_train_p)\n",
    "products_pred = clf_products.predict(X_test_p)\n",
    "print(\"Classification Report for Products:\")\n",
    "print(classification_report(y_test_p, products_pred, target_names=product_encoder.classes_))\n"
   ]
  }
 ],
 "metadata": {
  "kernelspec": {
   "display_name": "Python 3",
   "language": "python",
   "name": "python3"
  },
  "language_info": {
   "codemirror_mode": {
    "name": "ipython",
    "version": 3
   },
   "file_extension": ".py",
   "mimetype": "text/x-python",
   "name": "python",
   "nbconvert_exporter": "python",
   "pygments_lexer": "ipython3",
   "version": "3.11.7"
  }
 },
 "nbformat": 4,
 "nbformat_minor": 2
}
